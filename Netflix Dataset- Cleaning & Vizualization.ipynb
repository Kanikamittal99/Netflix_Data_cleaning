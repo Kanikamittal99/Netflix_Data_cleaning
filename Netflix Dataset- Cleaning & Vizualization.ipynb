{
 "cells": [
  {
   "cell_type": "code",
   "execution_count": 2,
   "id": "8009de02",
   "metadata": {},
   "outputs": [],
   "source": [
    "import pandas as pd\n",
    "import numpy as np"
   ]
  },
  {
   "cell_type": "code",
   "execution_count": 3,
   "id": "52c7e248",
   "metadata": {},
   "outputs": [
    {
     "data": {
      "text/html": [
       "<div>\n",
       "<style scoped>\n",
       "    .dataframe tbody tr th:only-of-type {\n",
       "        vertical-align: middle;\n",
       "    }\n",
       "\n",
       "    .dataframe tbody tr th {\n",
       "        vertical-align: top;\n",
       "    }\n",
       "\n",
       "    .dataframe thead th {\n",
       "        text-align: right;\n",
       "    }\n",
       "</style>\n",
       "<table border=\"1\" class=\"dataframe\">\n",
       "  <thead>\n",
       "    <tr style=\"text-align: right;\">\n",
       "      <th></th>\n",
       "      <th>show_id</th>\n",
       "      <th>type</th>\n",
       "      <th>title</th>\n",
       "      <th>director</th>\n",
       "      <th>cast</th>\n",
       "      <th>country</th>\n",
       "      <th>date_added</th>\n",
       "      <th>release_year</th>\n",
       "      <th>rating</th>\n",
       "      <th>duration</th>\n",
       "      <th>listed_in</th>\n",
       "      <th>description</th>\n",
       "    </tr>\n",
       "  </thead>\n",
       "  <tbody>\n",
       "    <tr>\n",
       "      <th>0</th>\n",
       "      <td>s1</td>\n",
       "      <td>Movie</td>\n",
       "      <td>Dick Johnson Is Dead</td>\n",
       "      <td>Kirsten Johnson</td>\n",
       "      <td>NaN</td>\n",
       "      <td>United States</td>\n",
       "      <td>September 25, 2021</td>\n",
       "      <td>2020</td>\n",
       "      <td>PG-13</td>\n",
       "      <td>90 min</td>\n",
       "      <td>Documentaries</td>\n",
       "      <td>As her father nears the end of his life, filmm...</td>\n",
       "    </tr>\n",
       "    <tr>\n",
       "      <th>1</th>\n",
       "      <td>s2</td>\n",
       "      <td>TV Show</td>\n",
       "      <td>Blood &amp; Water</td>\n",
       "      <td>NaN</td>\n",
       "      <td>Ama Qamata, Khosi Ngema, Gail Mabalane, Thaban...</td>\n",
       "      <td>South Africa</td>\n",
       "      <td>September 24, 2021</td>\n",
       "      <td>2021</td>\n",
       "      <td>TV-MA</td>\n",
       "      <td>2 Seasons</td>\n",
       "      <td>International TV Shows, TV Dramas, TV Mysteries</td>\n",
       "      <td>After crossing paths at a party, a Cape Town t...</td>\n",
       "    </tr>\n",
       "    <tr>\n",
       "      <th>2</th>\n",
       "      <td>s3</td>\n",
       "      <td>TV Show</td>\n",
       "      <td>Ganglands</td>\n",
       "      <td>Julien Leclercq</td>\n",
       "      <td>Sami Bouajila, Tracy Gotoas, Samuel Jouy, Nabi...</td>\n",
       "      <td>NaN</td>\n",
       "      <td>September 24, 2021</td>\n",
       "      <td>2021</td>\n",
       "      <td>TV-MA</td>\n",
       "      <td>1 Season</td>\n",
       "      <td>Crime TV Shows, International TV Shows, TV Act...</td>\n",
       "      <td>To protect his family from a powerful drug lor...</td>\n",
       "    </tr>\n",
       "    <tr>\n",
       "      <th>3</th>\n",
       "      <td>s4</td>\n",
       "      <td>TV Show</td>\n",
       "      <td>Jailbirds New Orleans</td>\n",
       "      <td>NaN</td>\n",
       "      <td>NaN</td>\n",
       "      <td>NaN</td>\n",
       "      <td>September 24, 2021</td>\n",
       "      <td>2021</td>\n",
       "      <td>TV-MA</td>\n",
       "      <td>1 Season</td>\n",
       "      <td>Docuseries, Reality TV</td>\n",
       "      <td>Feuds, flirtations and toilet talk go down amo...</td>\n",
       "    </tr>\n",
       "    <tr>\n",
       "      <th>4</th>\n",
       "      <td>s5</td>\n",
       "      <td>TV Show</td>\n",
       "      <td>Kota Factory</td>\n",
       "      <td>NaN</td>\n",
       "      <td>Mayur More, Jitendra Kumar, Ranjan Raj, Alam K...</td>\n",
       "      <td>India</td>\n",
       "      <td>September 24, 2021</td>\n",
       "      <td>2021</td>\n",
       "      <td>TV-MA</td>\n",
       "      <td>2 Seasons</td>\n",
       "      <td>International TV Shows, Romantic TV Shows, TV ...</td>\n",
       "      <td>In a city of coaching centers known to train I...</td>\n",
       "    </tr>\n",
       "  </tbody>\n",
       "</table>\n",
       "</div>"
      ],
      "text/plain": [
       "  show_id     type                  title         director  \\\n",
       "0      s1    Movie   Dick Johnson Is Dead  Kirsten Johnson   \n",
       "1      s2  TV Show          Blood & Water              NaN   \n",
       "2      s3  TV Show              Ganglands  Julien Leclercq   \n",
       "3      s4  TV Show  Jailbirds New Orleans              NaN   \n",
       "4      s5  TV Show           Kota Factory              NaN   \n",
       "\n",
       "                                                cast        country  \\\n",
       "0                                                NaN  United States   \n",
       "1  Ama Qamata, Khosi Ngema, Gail Mabalane, Thaban...   South Africa   \n",
       "2  Sami Bouajila, Tracy Gotoas, Samuel Jouy, Nabi...            NaN   \n",
       "3                                                NaN            NaN   \n",
       "4  Mayur More, Jitendra Kumar, Ranjan Raj, Alam K...          India   \n",
       "\n",
       "           date_added  release_year rating   duration  \\\n",
       "0  September 25, 2021          2020  PG-13     90 min   \n",
       "1  September 24, 2021          2021  TV-MA  2 Seasons   \n",
       "2  September 24, 2021          2021  TV-MA   1 Season   \n",
       "3  September 24, 2021          2021  TV-MA   1 Season   \n",
       "4  September 24, 2021          2021  TV-MA  2 Seasons   \n",
       "\n",
       "                                           listed_in  \\\n",
       "0                                      Documentaries   \n",
       "1    International TV Shows, TV Dramas, TV Mysteries   \n",
       "2  Crime TV Shows, International TV Shows, TV Act...   \n",
       "3                             Docuseries, Reality TV   \n",
       "4  International TV Shows, Romantic TV Shows, TV ...   \n",
       "\n",
       "                                         description  \n",
       "0  As her father nears the end of his life, filmm...  \n",
       "1  After crossing paths at a party, a Cape Town t...  \n",
       "2  To protect his family from a powerful drug lor...  \n",
       "3  Feuds, flirtations and toilet talk go down amo...  \n",
       "4  In a city of coaching centers known to train I...  "
      ]
     },
     "execution_count": 3,
     "metadata": {},
     "output_type": "execute_result"
    }
   ],
   "source": [
    "#import dataset\n",
    "data = pd.read_csv(\"C:/Users/user/NOTEBOOKS/EDA & Vizualization/netflix_titles.csv\")\n",
    "# printing 5 rows\n",
    "data.head()"
   ]
  },
  {
   "cell_type": "code",
   "execution_count": 4,
   "id": "67239602",
   "metadata": {},
   "outputs": [
    {
     "name": "stdout",
     "output_type": "stream",
     "text": [
      "<class 'pandas.core.frame.DataFrame'>\n",
      "RangeIndex: 8807 entries, 0 to 8806\n",
      "Data columns (total 12 columns):\n",
      " #   Column        Non-Null Count  Dtype \n",
      "---  ------        --------------  ----- \n",
      " 0   show_id       8807 non-null   object\n",
      " 1   type          8807 non-null   object\n",
      " 2   title         8807 non-null   object\n",
      " 3   director      6173 non-null   object\n",
      " 4   cast          7982 non-null   object\n",
      " 5   country       7976 non-null   object\n",
      " 6   date_added    8797 non-null   object\n",
      " 7   release_year  8807 non-null   int64 \n",
      " 8   rating        8803 non-null   object\n",
      " 9   duration      8804 non-null   object\n",
      " 10  listed_in     8807 non-null   object\n",
      " 11  description   8807 non-null   object\n",
      "dtypes: int64(1), object(11)\n",
      "memory usage: 825.8+ KB\n"
     ]
    }
   ],
   "source": [
    "data.info()"
   ]
  },
  {
   "cell_type": "code",
   "execution_count": 5,
   "id": "77e8b9a6",
   "metadata": {},
   "outputs": [
    {
     "data": {
      "text/plain": [
       "['show_id',\n",
       " 'type',\n",
       " 'title',\n",
       " 'director',\n",
       " 'cast',\n",
       " 'country',\n",
       " 'date_added',\n",
       " 'release_year',\n",
       " 'rating',\n",
       " 'duration',\n",
       " 'listed_in',\n",
       " 'description']"
      ]
     },
     "execution_count": 5,
     "metadata": {},
     "output_type": "execute_result"
    }
   ],
   "source": [
    "#fetch columns of the dataset\n",
    "columns = list(data.columns)\n",
    "columns"
   ]
  },
  {
   "cell_type": "code",
   "execution_count": 6,
   "id": "75a77a96",
   "metadata": {},
   "outputs": [
    {
     "name": "stdout",
     "output_type": "stream",
     "text": [
      "Missing values distribution: \n",
      "director        0.299080\n",
      "country         0.094357\n",
      "cast            0.093675\n",
      "date_added      0.001135\n",
      "rating          0.000454\n",
      "duration        0.000341\n",
      "show_id         0.000000\n",
      "type            0.000000\n",
      "title           0.000000\n",
      "release_year    0.000000\n",
      "listed_in       0.000000\n",
      "description     0.000000\n",
      "dtype: float64\n"
     ]
    }
   ],
   "source": [
    "#examine missing values\n",
    "print(\"Missing values distribution: \")\n",
    "\n",
    "#Mask all values that are NaN as True\n",
    "#compute the mean of Boolean mask (True evaluates as 1 and False as 0)\n",
    "res = data.isnull().mean().sort_values(ascending = False)\n",
    "print(res)"
   ]
  },
  {
   "cell_type": "markdown",
   "id": "5534ed8d",
   "metadata": {},
   "source": [
    "#### director column has the highest percentage of missing data ~ 30%\n",
    "\n",
    "#### cast and country column also has a considerable percentage of missing data ~ 9%\n",
    "\n",
    "#### date_added, rating and duration don’t have that much missing data ~ 0% - 0.1%\n",
    "\n",
    "#### Other columns are not empty."
   ]
  },
  {
   "cell_type": "code",
   "execution_count": 7,
   "id": "248b77e8",
   "metadata": {},
   "outputs": [
    {
     "name": "stdout",
     "output_type": "stream",
     "text": [
      "Column datatypes: \n",
      "show_id         object\n",
      "type            object\n",
      "title           object\n",
      "director        object\n",
      "cast            object\n",
      "country         object\n",
      "date_added      object\n",
      "release_year     int64\n",
      "rating          object\n",
      "duration        object\n",
      "listed_in       object\n",
      "description     object\n",
      "dtype: object\n"
     ]
    }
   ],
   "source": [
    "# check datatype in each column\n",
    "print(\"Column datatypes: \")\n",
    "print(data.dtypes)"
   ]
  },
  {
   "cell_type": "code",
   "execution_count": 8,
   "id": "9cf4e351",
   "metadata": {},
   "outputs": [],
   "source": [
    "# getting all the columns with string/mixed type values\n",
    "str_cols = list(data.columns)\n",
    "str_cols.remove('release_year')\n",
    "\n",
    "# removing leading and trailing characters from columns with str type\n",
    "for i in str_cols:\n",
    "    #print(type(data[i]))\n",
    "    data[i] = data[i].str.strip()"
   ]
  },
  {
   "cell_type": "markdown",
   "id": "125e7007",
   "metadata": {},
   "source": [
    "#### Handling missing values(NaN)\n",
    "\n",
    "#### We have following object types:\n",
    "\n",
    "String: director, cast, country, rating\n",
    "\n",
    "Mixed: date_added, duration"
   ]
  },
  {
   "cell_type": "code",
   "execution_count": 9,
   "id": "deab91f0",
   "metadata": {},
   "outputs": [],
   "source": [
    "columns = ['director','cast','country','rating','date_added']\n",
    "\n",
    "# looping through the columns to fill the entries with NaN values with \"\"\n",
    "for column in columns:\n",
    "    data[column].fillna(\"\", inplace = True) "
   ]
  },
  {
   "cell_type": "markdown",
   "id": "b24f4638",
   "metadata": {},
   "source": [
    "##### Extracting year and month from date for further trend analysis"
   ]
  },
  {
   "cell_type": "code",
   "execution_count": 10,
   "id": "ed937106",
   "metadata": {},
   "outputs": [],
   "source": [
    "# examining rows with null values for date_added column\n",
    "rows = []\n",
    "for i in range(len(data)):\n",
    "    if data['date_added'].iloc[i] == \"\":\n",
    "        rows.append(i)\n",
    "#print(rows)\n",
    "\n",
    "# examine those rows to confirm null state\n",
    "data.loc[rows, :]\n",
    "\n",
    "# extracting months added and years added\n",
    "year_added = []\n",
    "month_added = []\n",
    "for i in range(len(data)):\n",
    "    # replacing NaN values with 0\n",
    "    if i in rows:\n",
    "        month_added.append(0)\n",
    "        year_added.append(0)\n",
    "    else:\n",
    "        date = data['date_added'].iloc[i].split(\" \")\n",
    "        year_added.append(int(date[2]))\n",
    "        month_added.append(date[0])\n",
    "\n",
    "#month_added.clear()\n",
    "#year_added.clear()"
   ]
  },
  {
   "cell_type": "code",
   "execution_count": null,
   "id": "7850d088",
   "metadata": {},
   "outputs": [],
   "source": [
    "from datetime import datetime as dt\n",
    "\n",
    "# turning month names into month numbers\n",
    "for i,mth in enumerate(month_added):\n",
    "    if mth != 0:\n",
    "        datetime_obj = dt.strptime(mth, \"%B\")\n",
    "        month_number = datetime_obj.month\n",
    "        month_added[i] = month_number\n",
    "\n",
    "# checking all months and years\n",
    "print(set(month_added))\n",
    "print(set(year_added))\n",
    "\n",
    "# inserting the month and year columns into the dataset\n",
    "data.insert(7,\"month_added\",month_added,allow_duplicates=True)\n",
    "data.insert(8,\"year_added\",year_added,allow_duplicates=True)"
   ]
  },
  {
   "cell_type": "markdown",
   "id": "0f205202",
   "metadata": {},
   "source": [
    "### Creating 2 datasets from existing one\n",
    "#### type : TV Show & Movie"
   ]
  },
  {
   "cell_type": "code",
   "execution_count": 11,
   "id": "a7e13d92",
   "metadata": {},
   "outputs": [],
   "source": [
    "# separating original dataset to tv show and movie dataset respectively\n",
    "shows = []\n",
    "films = []\n",
    "\n",
    "# looping through the dataset to identify rows that are TV shows and films\n",
    "for i in range(len(data)):\n",
    "    if data['type'].iloc[i] == 'TV Show':\n",
    "        shows.append(i)\n",
    "    else:\n",
    "        films.append(i)\n",
    "\n",
    "# grouping rows that are TV shows and films\n",
    "netflix_shows = data.loc[shows,:]\n",
    "netflix_films = data.loc[films,:]\n",
    "\n",
    "# reseting the index of the new datasets\n",
    "netflix_shows = netflix_shows.set_index([pd.Index(range(0, len(netflix_shows)))])\n",
    "netflix_films = netflix_films.set_index([pd.Index(range(0, len(netflix_films)))])"
   ]
  },
  {
   "cell_type": "code",
   "execution_count": 12,
   "id": "6457580c",
   "metadata": {},
   "outputs": [],
   "source": [
    "#another method - forms rangeIndex instead of IntIndex\n",
    "# netflix_films.index = pd.Index(range(0,len(netflix_films)))\n",
    "# print(type(netflix_shows.index))\n",
    "# print(type(netflix_films.index))"
   ]
  },
  {
   "cell_type": "code",
   "execution_count": 13,
   "id": "faf205e5",
   "metadata": {},
   "outputs": [],
   "source": [
    "# get length of movie or number of seasons of show\n",
    "def getduration(data):\n",
    "    count = 0\n",
    "    duration = []\n",
    "    for value in data:\n",
    "        if type(value) is float:\n",
    "            duration.append(0)\n",
    "        else:\n",
    "            values = value.split(\" \")\n",
    "            duration.append(values[0])\n",
    "    return duration\n",
    "\n",
    "# inserting new duration type column for shows (renamed column)\n",
    "netflix_shows.insert(11,'seasons',getduration(netflix_shows['duration']))\n",
    "netflix_shows.drop(['duration'],axis=1,inplace=True)\n",
    "\n",
    "# inserting new duration type column for films (renamed column)\n",
    "netflix_films.insert(11, 'length', getduration(netflix_films['duration']))\n",
    "netflix_films = netflix_films.drop(['duration'], axis = 1)"
   ]
  },
  {
   "cell_type": "markdown",
   "id": "20463cf2",
   "metadata": {},
   "source": [
    "### Checking corrupted values(if any)\n",
    "\n",
    "##### Checking unique values of columns like country, rating, listed_in\n",
    "\n",
    "title, director, and cast will have large number of unique values so skipping them"
   ]
  },
  {
   "cell_type": "code",
   "execution_count": 14,
   "id": "88a6aa3a",
   "metadata": {},
   "outputs": [
    {
     "data": {
      "text/plain": [
       "array(['TV-MA', 'TV-14', 'TV-Y7', 'TV-PG', 'TV-Y', 'TV-G', 'R', 'NR', '',\n",
       "       'TV-Y7-FV'], dtype=object)"
      ]
     },
     "execution_count": 14,
     "metadata": {},
     "output_type": "execute_result"
    }
   ],
   "source": [
    "netflix_shows['rating'].unique()"
   ]
  },
  {
   "cell_type": "code",
   "execution_count": 15,
   "id": "65d2e334",
   "metadata": {},
   "outputs": [
    {
     "data": {
      "text/plain": [
       "array(['PG-13', 'PG', 'TV-MA', 'TV-PG', 'TV-14', 'TV-Y', 'R', 'TV-G',\n",
       "       'TV-Y7', 'G', 'NC-17', '74 min', '84 min', '66 min', 'NR', '',\n",
       "       'TV-Y7-FV', 'UR'], dtype=object)"
      ]
     },
     "execution_count": 15,
     "metadata": {},
     "output_type": "execute_result"
    }
   ],
   "source": [
    "netflix_films['rating'].unique()  \n",
    "#contains NR(Not rated) and UR(unRated); which means the same\n",
    "# contains mins "
   ]
  },
  {
   "cell_type": "code",
   "execution_count": 16,
   "id": "eb0c378f",
   "metadata": {},
   "outputs": [
    {
     "name": "stdout",
     "output_type": "stream",
     "text": [
      "show_id                                                     s5542\n",
      "type                                                        Movie\n",
      "title                                             Louis C.K. 2017\n",
      "director                                               Louis C.K.\n",
      "cast                                                   Louis C.K.\n",
      "country                                             United States\n",
      "date_added                                          April 4, 2017\n",
      "release_year                                                 2017\n",
      "rating                                                     74 min\n",
      "listed_in                                                  Movies\n",
      "length                                                          0\n",
      "description     Louis C.K. muses on religion, eternal love, gi...\n",
      "Name: 3562, dtype: object\n",
      "\n",
      "show_id                                                     s5795\n",
      "type                                                        Movie\n",
      "title                                       Louis C.K.: Hilarious\n",
      "director                                               Louis C.K.\n",
      "cast                                                   Louis C.K.\n",
      "country                                             United States\n",
      "date_added                                     September 16, 2016\n",
      "release_year                                                 2010\n",
      "rating                                                     84 min\n",
      "listed_in                                                  Movies\n",
      "length                                                          0\n",
      "description     Emmy-winning comedy writer Louis C.K. brings h...\n",
      "Name: 3738, dtype: object\n",
      "\n",
      "show_id                                                     s5814\n",
      "type                                                        Movie\n",
      "title                        Louis C.K.: Live at the Comedy Store\n",
      "director                                               Louis C.K.\n",
      "cast                                                   Louis C.K.\n",
      "country                                             United States\n",
      "date_added                                        August 15, 2016\n",
      "release_year                                                 2015\n",
      "rating                                                     66 min\n",
      "listed_in                                                  Movies\n",
      "length                                                          0\n",
      "description     The comic puts his trademark hilarious/thought...\n",
      "Name: 3747, dtype: object\n",
      "\n"
     ]
    }
   ],
   "source": [
    "incorrect_ratings = ['74 min', '84 min', '66 min']\n",
    "weirdRowsIndex = []\n",
    "\n",
    "for i in range(len(netflix_films)):\n",
    "    if netflix_films['rating'].iloc[i] in incorrect_ratings:\n",
    "        weirdRowsIndex.append(i)\n",
    "        print(netflix_films.iloc[i])\n",
    "        print(\"\")\n"
   ]
  },
  {
   "cell_type": "markdown",
   "id": "45f6c751",
   "metadata": {},
   "source": [
    "#### This weird rating actually belongs to the length column. Hence, replacing the values."
   ]
  },
  {
   "cell_type": "code",
   "execution_count": 17,
   "id": "b20bf513",
   "metadata": {},
   "outputs": [
    {
     "name": "stdout",
     "output_type": "stream",
     "text": [
      "show_id                                                     s5542\n",
      "type                                                        Movie\n",
      "title                                             Louis C.K. 2017\n",
      "director                                               Louis C.K.\n",
      "cast                                                   Louis C.K.\n",
      "country                                             United States\n",
      "date_added                                          April 4, 2017\n",
      "release_year                                                 2017\n",
      "rating                                                         NR\n",
      "listed_in                                                  Movies\n",
      "length                                                         74\n",
      "description     Louis C.K. muses on religion, eternal love, gi...\n",
      "Name: 3562, dtype: object\n",
      "show_id                                                     s5795\n",
      "type                                                        Movie\n",
      "title                                       Louis C.K.: Hilarious\n",
      "director                                               Louis C.K.\n",
      "cast                                                   Louis C.K.\n",
      "country                                             United States\n",
      "date_added                                     September 16, 2016\n",
      "release_year                                                 2010\n",
      "rating                                                         NR\n",
      "listed_in                                                  Movies\n",
      "length                                                         84\n",
      "description     Emmy-winning comedy writer Louis C.K. brings h...\n",
      "Name: 3738, dtype: object\n",
      "show_id                                                     s5814\n",
      "type                                                        Movie\n",
      "title                        Louis C.K.: Live at the Comedy Store\n",
      "director                                               Louis C.K.\n",
      "cast                                                   Louis C.K.\n",
      "country                                             United States\n",
      "date_added                                        August 15, 2016\n",
      "release_year                                                 2015\n",
      "rating                                                         NR\n",
      "listed_in                                                  Movies\n",
      "length                                                         66\n",
      "description     The comic puts his trademark hilarious/thought...\n",
      "Name: 3747, dtype: object\n"
     ]
    },
    {
     "name": "stderr",
     "output_type": "stream",
     "text": [
      "G:\\Downloads\\anaconda3\\lib\\site-packages\\pandas\\core\\indexing.py:1732: SettingWithCopyWarning: \n",
      "A value is trying to be set on a copy of a slice from a DataFrame\n",
      "\n",
      "See the caveats in the documentation: https://pandas.pydata.org/pandas-docs/stable/user_guide/indexing.html#returning-a-view-versus-a-copy\n",
      "  self._setitem_single_block(indexer, value, name)\n"
     ]
    }
   ],
   "source": [
    "#Correction\n",
    "for i in weirdRowsIndex:\n",
    "    values = netflix_films['rating'].iloc[i].split(\" \")\n",
    "    length = values[0]\n",
    "    netflix_films['length'].iloc[i] = length\n",
    "    netflix_films['rating'].iloc[i] = \"NR\"\n",
    "    \n",
    "#Checking the entries now\n",
    "for i in weirdRowsIndex:\n",
    "    print(netflix_films.iloc[i])"
   ]
  },
  {
   "cell_type": "markdown",
   "id": "04bcb30a",
   "metadata": {},
   "source": [
    "#### Changing UR to NR for consistency"
   ]
  },
  {
   "cell_type": "code",
   "execution_count": 18,
   "id": "b32763fe",
   "metadata": {},
   "outputs": [
    {
     "data": {
      "text/plain": [
       "array(['PG-13', 'PG', 'TV-MA', 'TV-PG', 'TV-14', 'TV-Y', 'R', 'TV-G',\n",
       "       'TV-Y7', 'G', 'NC-17', 'NR', '', 'TV-Y7-FV'], dtype=object)"
      ]
     },
     "execution_count": 18,
     "metadata": {},
     "output_type": "execute_result"
    }
   ],
   "source": [
    "for i in range(len(netflix_films)):\n",
    "    if netflix_films['rating'].iloc[i] == 'UR':\n",
    "        #netflix_films['rating'].iloc[i] = 'NR'\n",
    "        netflix_films.loc[i,\"rating\"] = 'NR'           #indexing better than chaining\n",
    "\n",
    "#verifying unique values\n",
    "netflix_films['rating'].unique()\n"
   ]
  },
  {
   "cell_type": "markdown",
   "id": "7e3412a7",
   "metadata": {},
   "source": [
    "#### Extract unique country values"
   ]
  },
  {
   "cell_type": "code",
   "execution_count": 19,
   "id": "bd716d06",
   "metadata": {},
   "outputs": [],
   "source": [
    "# function to get unique values of a column\n",
    "def getUnique(data):\n",
    "    unique_values = set()\n",
    "    for value in data:\n",
    "        if type(value) is float:\n",
    "            unique_values.add(None)\n",
    "            #print(\"None\")\n",
    "        else:\n",
    "            split_value = value.split(\",\")\n",
    "            for i in split_value:\n",
    "                #Comma is appended after few counties (eg:'United States,')\n",
    "                unique_values.add(i.strip())\n",
    "    return list(unique_values)\n"
   ]
  },
  {
   "cell_type": "code",
   "execution_count": 20,
   "id": "372c58ba",
   "metadata": {},
   "outputs": [],
   "source": [
    "# fetching unique countries from main dataset\n",
    "unique_countries = getUnique(data['country'])\n",
    "#unique_countries "
   ]
  },
  {
   "cell_type": "markdown",
   "id": "1dcb9af9",
   "metadata": {},
   "source": [
    "#### Comparing Countries with iso package to find inconsistencies \n"
   ]
  },
  {
   "cell_type": "code",
   "execution_count": 21,
   "id": "302620a4",
   "metadata": {},
   "outputs": [
    {
     "name": "stdout",
     "output_type": "stream",
     "text": [
      "Requirement already satisfied: iso3166 in g:\\downloads\\anaconda3\\lib\\site-packages (2.1.1)\n"
     ]
    }
   ],
   "source": [
    "# Install a pip package in the current Jupyter kernel\n",
    "import sys\n",
    "!{sys.executable} -m pip install iso3166\n",
    "\n",
    "from iso3166 import countries\n",
    "#countries.get('us')"
   ]
  },
  {
   "cell_type": "code",
   "execution_count": 22,
   "id": "7574601c",
   "metadata": {},
   "outputs": [],
   "source": [
    "# fetch countries list from iso3166  \n",
    "countries_list = []\n",
    "for c in countries:\n",
    "    countries_list.append(c.name)\n",
    "\n",
    "#countries_list"
   ]
  },
  {
   "cell_type": "code",
   "execution_count": 23,
   "id": "eb5b5b80",
   "metadata": {},
   "outputs": [
    {
     "data": {
      "text/plain": [
       "['',\n",
       " 'Vietnam',\n",
       " 'Taiwan',\n",
       " 'Venezuela',\n",
       " 'United States',\n",
       " 'Palestine',\n",
       " 'Iran',\n",
       " 'West Germany',\n",
       " 'Vatican City',\n",
       " 'South Korea',\n",
       " 'Czech Republic',\n",
       " 'United Kingdom',\n",
       " 'Turkey',\n",
       " 'Soviet Union',\n",
       " 'Russia',\n",
       " 'Syria',\n",
       " 'East Germany']"
      ]
     },
     "execution_count": 23,
     "metadata": {},
     "output_type": "execute_result"
    }
   ],
   "source": [
    "# compare to find differences between the countries we have and the correct ones\n",
    "rem_countries = []\n",
    "for i in unique_countries:\n",
    "    if i not in countries_list:\n",
    "        rem_countries.append(i)\n",
    "        \n",
    "rem_countries"
   ]
  },
  {
   "cell_type": "markdown",
   "id": "1705d1e2",
   "metadata": {},
   "source": [
    "#### There are few inconsistencies here:\n",
    "\n",
    "There’s both the Soviet Union and Russia\n",
    "\n",
    "There’s both the West/East Germany and Germany\n",
    "\n",
    "Countries starting from ', ' (eg: ', South Korea', etc)\n"
   ]
  },
  {
   "cell_type": "code",
   "execution_count": 24,
   "id": "6cde51f8",
   "metadata": {},
   "outputs": [
    {
     "name": "stdout",
     "output_type": "stream",
     "text": [
      "Venezuela, Bolivarian Republic of\n"
     ]
    }
   ],
   "source": [
    "# check if countries go by any other name\n",
    "for c in countries:\n",
    "    cname = c.name\n",
    "    if cname.find('Venezuela')!= -1:\n",
    "        print(cname)"
   ]
  },
  {
   "cell_type": "code",
   "execution_count": 25,
   "id": "1a94a7cd",
   "metadata": {},
   "outputs": [],
   "source": [
    "# converting soviet union to russia and east/west germany to germany\n",
    "for i in range(len(data)):\n",
    "    if data['country'].iloc[i] != \"\":\n",
    "        countries = data['country'].iloc[i].split(\", \")\n",
    "        for j in range(len(countries)):\n",
    "            if \"Germany\" in countries[j]:\n",
    "                countries[j] = \"Germany\"\n",
    "            elif \"Soviet Union\" in countries[j]:\n",
    "                countries[j] = \"Russia\"\n",
    "        data['country'].iloc[i] = \", \".join(countries)\n",
    "    #print(data['country'].iloc[i])\n"
   ]
  },
  {
   "cell_type": "code",
   "execution_count": 26,
   "id": "3ae99628",
   "metadata": {},
   "outputs": [
    {
     "name": "stdout",
     "output_type": "stream",
     "text": [
      "show_id                                                      s194\n",
      "type                                                      TV Show\n",
      "title                                                        D.P.\n",
      "director                                                         \n",
      "cast            Jung Hae-in, Koo Kyo-hwan, Kim Sung-kyun, Son ...\n",
      "country                                               South Korea\n",
      "date_added                                        August 27, 2021\n",
      "release_year                                                 2021\n",
      "rating                                                      TV-MA\n",
      "duration                                                 1 Season\n",
      "listed_in                       International TV Shows, TV Dramas\n",
      "description     A young private’s assignment to capture army d...\n",
      "Name: 193, dtype: object\n",
      "show_id                                                      s366\n",
      "type                                                        Movie\n",
      "title                                             Eyes of a Thief\n",
      "director                                             Najwa Najjar\n",
      "cast            Khaled Abol El Naga, Souad Massi, Suhail Hadda...\n",
      "country                                           France, Algeria\n",
      "date_added                                          July 30, 2021\n",
      "release_year                                                 2014\n",
      "rating                                                      TV-14\n",
      "duration                                                  103 min\n",
      "listed_in        Dramas, Independent Movies, International Movies\n",
      "description     After a decade in prison, a Palestinian man wi...\n",
      "Name: 365, dtype: object\n"
     ]
    }
   ],
   "source": [
    "# correcting instances where country starting from ', '\n",
    "for i in range(len(data)):\n",
    "    if data['country'].iloc[i].startswith(','):\n",
    "        data.loc[i,\"country\"] = data.loc[i,\"country\"].strip(', ')         \n",
    "        print(data.iloc[i])"
   ]
  },
  {
   "cell_type": "code",
   "execution_count": 27,
   "id": "97d543ea",
   "metadata": {},
   "outputs": [
    {
     "ename": "IndentationError",
     "evalue": "expected an indented block (Temp/ipykernel_3916/686672179.py, line 3)",
     "output_type": "error",
     "traceback": [
      "\u001b[1;36m  File \u001b[1;32m\"C:\\Users\\user\\AppData\\Local\\Temp/ipykernel_3916/686672179.py\"\u001b[1;36m, line \u001b[1;32m3\u001b[0m\n\u001b[1;33m    #print(data['country'].iloc[i])\u001b[0m\n\u001b[1;37m                                   ^\u001b[0m\n\u001b[1;31mIndentationError\u001b[0m\u001b[1;31m:\u001b[0m expected an indented block\n"
     ]
    }
   ],
   "source": [
    "# checking countries\n",
    "for i in range(len(data)):\n",
    "    print(data['country'].iloc[i])"
   ]
  },
  {
   "cell_type": "markdown",
   "id": "8d20d69a",
   "metadata": {},
   "source": [
    "### Checking Genre now"
   ]
  },
  {
   "cell_type": "code",
   "execution_count": 28,
   "id": "ad9f3d81",
   "metadata": {},
   "outputs": [
    {
     "data": {
      "text/plain": [
       "['Dramas',\n",
       " 'Cult Movies',\n",
       " 'International Movies',\n",
       " 'Thrillers',\n",
       " 'Action & Adventure',\n",
       " 'Anime Features',\n",
       " 'LGBTQ Movies',\n",
       " 'Romantic Movies',\n",
       " 'Movies',\n",
       " 'Classic Movies',\n",
       " 'Stand-Up Comedy',\n",
       " 'Independent Movies',\n",
       " 'Sci-Fi & Fantasy',\n",
       " 'Children & Family Movies',\n",
       " 'Documentaries',\n",
       " 'Sports Movies',\n",
       " 'Music & Musicals',\n",
       " 'Horror Movies',\n",
       " 'Faith & Spirituality',\n",
       " 'Comedies']"
      ]
     },
     "execution_count": 28,
     "metadata": {},
     "output_type": "execute_result"
    }
   ],
   "source": [
    "# getting unique film genres\n",
    "unique_genres_films = getUnique(netflix_films['listed_in'])\n",
    "unique_genres_films"
   ]
  },
  {
   "cell_type": "code",
   "execution_count": 29,
   "id": "cdb1cd97",
   "metadata": {},
   "outputs": [
    {
     "data": {
      "text/plain": [
       "['Korean TV Shows',\n",
       " 'TV Shows',\n",
       " 'TV Dramas',\n",
       " 'Stand-Up Comedy & Talk Shows',\n",
       " 'International TV Shows',\n",
       " 'Reality TV',\n",
       " 'Romantic TV Shows',\n",
       " 'TV Horror',\n",
       " 'Crime TV Shows',\n",
       " 'Classic & Cult TV',\n",
       " 'Docuseries',\n",
       " 'Spanish-Language TV Shows',\n",
       " 'TV Sci-Fi & Fantasy',\n",
       " \"Kids' TV\",\n",
       " 'TV Thrillers',\n",
       " 'Anime Series',\n",
       " 'Science & Nature TV',\n",
       " 'TV Mysteries',\n",
       " 'British TV Shows',\n",
       " 'Teen TV Shows',\n",
       " 'TV Action & Adventure',\n",
       " 'TV Comedies']"
      ]
     },
     "execution_count": 29,
     "metadata": {},
     "output_type": "execute_result"
    }
   ],
   "source": [
    "# getting unique show genres\n",
    "unique_genres_shows = getUnique(netflix_shows['listed_in'])\n",
    "unique_genres_shows"
   ]
  },
  {
   "cell_type": "code",
   "execution_count": 30,
   "id": "1512ed29",
   "metadata": {},
   "outputs": [
    {
     "name": "stdout",
     "output_type": "stream",
     "text": [
      "count 16\n",
      "index [59, 110, 272, 286, 452, 599, 991, 1432, 1548, 1808, 1840, 2107, 2160, 2190, 2465, 2559]\n"
     ]
    }
   ],
   "source": [
    "# checking for TV shows\n",
    "# replace netflix_shows with netflix_films to check for moviescount = 0\n",
    "NoGenre = []\n",
    "count=0\n",
    "for i,value in enumerate(netflix_shows['listed_in']):\n",
    "    genres = value.split(\", \")\n",
    "    if \"TV Shows\" in genres:\n",
    "        count += 1\n",
    "        NoGenre.append(i)\n",
    "        \n",
    "print(\"count %s\" %count)\n",
    "print(\"index %s\" %NoGenre)"
   ]
  },
  {
   "cell_type": "code",
   "execution_count": 31,
   "id": "4ea4a5c7",
   "metadata": {},
   "outputs": [
    {
     "data": {
      "text/html": [
       "<div>\n",
       "<style scoped>\n",
       "    .dataframe tbody tr th:only-of-type {\n",
       "        vertical-align: middle;\n",
       "    }\n",
       "\n",
       "    .dataframe tbody tr th {\n",
       "        vertical-align: top;\n",
       "    }\n",
       "\n",
       "    .dataframe thead th {\n",
       "        text-align: right;\n",
       "    }\n",
       "</style>\n",
       "<table border=\"1\" class=\"dataframe\">\n",
       "  <thead>\n",
       "    <tr style=\"text-align: right;\">\n",
       "      <th></th>\n",
       "      <th>show_id</th>\n",
       "      <th>type</th>\n",
       "      <th>title</th>\n",
       "      <th>director</th>\n",
       "      <th>cast</th>\n",
       "      <th>country</th>\n",
       "      <th>date_added</th>\n",
       "      <th>release_year</th>\n",
       "      <th>rating</th>\n",
       "      <th>listed_in</th>\n",
       "      <th>seasons</th>\n",
       "      <th>description</th>\n",
       "    </tr>\n",
       "  </thead>\n",
       "  <tbody>\n",
       "    <tr>\n",
       "      <th>59</th>\n",
       "      <td>s149</td>\n",
       "      <td>TV Show</td>\n",
       "      <td>HQ Barbers</td>\n",
       "      <td>Gerhard Mostert</td>\n",
       "      <td>Hakeem Kae-Kazim, Chioma Omeruah, Orukotan Ade...</td>\n",
       "      <td></td>\n",
       "      <td>September 1, 2021</td>\n",
       "      <td>2020</td>\n",
       "      <td>TV-14</td>\n",
       "      <td>TV Shows</td>\n",
       "      <td>1</td>\n",
       "      <td>When a family run barber shop in the heart of ...</td>\n",
       "    </tr>\n",
       "    <tr>\n",
       "      <th>110</th>\n",
       "      <td>s298</td>\n",
       "      <td>TV Show</td>\n",
       "      <td>Navarasa</td>\n",
       "      <td>Bejoy Nambiar, Priyadarshan, Karthik Narain, V...</td>\n",
       "      <td>Suriya, Vijay Sethupathi, Revathy, Prakash Raj...</td>\n",
       "      <td>India</td>\n",
       "      <td>August 6, 2021</td>\n",
       "      <td>2021</td>\n",
       "      <td>TV-MA</td>\n",
       "      <td>TV Shows</td>\n",
       "      <td>1</td>\n",
       "      <td>From amusement to awe, the nine human emotions...</td>\n",
       "    </tr>\n",
       "    <tr>\n",
       "      <th>272</th>\n",
       "      <td>s727</td>\n",
       "      <td>TV Show</td>\n",
       "      <td>Metallica: Some Kind of Monster</td>\n",
       "      <td>Joe Berlinger, Bruce Sinofsky</td>\n",
       "      <td>James Hetfield, Lars Ulrich, Kirk Hammett, Rob...</td>\n",
       "      <td>United States</td>\n",
       "      <td>June 13, 2021</td>\n",
       "      <td>2014</td>\n",
       "      <td>TV-MA</td>\n",
       "      <td>TV Shows</td>\n",
       "      <td>1</td>\n",
       "      <td>This collection includes the acclaimed rock do...</td>\n",
       "    </tr>\n",
       "    <tr>\n",
       "      <th>286</th>\n",
       "      <td>s772</td>\n",
       "      <td>TV Show</td>\n",
       "      <td>Pretty Guardian Sailor Moon Eternal The Movie</td>\n",
       "      <td>Chiaki Kon</td>\n",
       "      <td>Kotono Mitsuishi, Hisako Kanemoto, Rina Satou,...</td>\n",
       "      <td></td>\n",
       "      <td>June 3, 2021</td>\n",
       "      <td>2021</td>\n",
       "      <td>TV-14</td>\n",
       "      <td>TV Shows</td>\n",
       "      <td>1</td>\n",
       "      <td>When a dark power enshrouds the Earth after a ...</td>\n",
       "    </tr>\n",
       "    <tr>\n",
       "      <th>452</th>\n",
       "      <td>s1332</td>\n",
       "      <td>TV Show</td>\n",
       "      <td>Five Came Back: The Reference Films</td>\n",
       "      <td></td>\n",
       "      <td></td>\n",
       "      <td>United States</td>\n",
       "      <td>February 9, 2021</td>\n",
       "      <td>1945</td>\n",
       "      <td>TV-MA</td>\n",
       "      <td>TV Shows</td>\n",
       "      <td>1</td>\n",
       "      <td>This collection includes 12 World War II-era p...</td>\n",
       "    </tr>\n",
       "  </tbody>\n",
       "</table>\n",
       "</div>"
      ],
      "text/plain": [
       "    show_id     type                                          title  \\\n",
       "59     s149  TV Show                                     HQ Barbers   \n",
       "110    s298  TV Show                                       Navarasa   \n",
       "272    s727  TV Show                Metallica: Some Kind of Monster   \n",
       "286    s772  TV Show  Pretty Guardian Sailor Moon Eternal The Movie   \n",
       "452   s1332  TV Show            Five Came Back: The Reference Films   \n",
       "\n",
       "                                              director  \\\n",
       "59                                     Gerhard Mostert   \n",
       "110  Bejoy Nambiar, Priyadarshan, Karthik Narain, V...   \n",
       "272                      Joe Berlinger, Bruce Sinofsky   \n",
       "286                                         Chiaki Kon   \n",
       "452                                                      \n",
       "\n",
       "                                                  cast        country  \\\n",
       "59   Hakeem Kae-Kazim, Chioma Omeruah, Orukotan Ade...                  \n",
       "110  Suriya, Vijay Sethupathi, Revathy, Prakash Raj...          India   \n",
       "272  James Hetfield, Lars Ulrich, Kirk Hammett, Rob...  United States   \n",
       "286  Kotono Mitsuishi, Hisako Kanemoto, Rina Satou,...                  \n",
       "452                                                     United States   \n",
       "\n",
       "            date_added  release_year rating listed_in seasons  \\\n",
       "59   September 1, 2021          2020  TV-14  TV Shows       1   \n",
       "110     August 6, 2021          2021  TV-MA  TV Shows       1   \n",
       "272      June 13, 2021          2014  TV-MA  TV Shows       1   \n",
       "286       June 3, 2021          2021  TV-14  TV Shows       1   \n",
       "452   February 9, 2021          1945  TV-MA  TV Shows       1   \n",
       "\n",
       "                                           description  \n",
       "59   When a family run barber shop in the heart of ...  \n",
       "110  From amusement to awe, the nine human emotions...  \n",
       "272  This collection includes the acclaimed rock do...  \n",
       "286  When a dark power enshrouds the Earth after a ...  \n",
       "452  This collection includes 12 World War II-era p...  "
      ]
     },
     "execution_count": 31,
     "metadata": {},
     "output_type": "execute_result"
    }
   ],
   "source": [
    "## printing the first 5 rows of all rows that have TV Shows as its genre\n",
    "netflix_shows.iloc[NoGenre[0:5]]"
   ]
  },
  {
   "cell_type": "markdown",
   "id": "ac045e90",
   "metadata": {},
   "source": [
    "##### “TV Shows” and “Movies” genre was used to signify that they didn’t have a genre. We can either choose to exclude or include it in our analysis. "
   ]
  },
  {
   "cell_type": "markdown",
   "id": "3bfcc48a",
   "metadata": {},
   "source": [
    "### Join the cleaned datasets together to create another dataset "
   ]
  },
  {
   "cell_type": "code",
   "execution_count": 32,
   "id": "550ac603",
   "metadata": {},
   "outputs": [],
   "source": [
    "dfs= [netflix_films,netflix_shows]\n",
    "new_df = pd.concat(dfs)"
   ]
  },
  {
   "cell_type": "code",
   "execution_count": 33,
   "id": "56f1251d",
   "metadata": {},
   "outputs": [
    {
     "data": {
      "text/plain": [
       "seasons         0.696151\n",
       "length          0.303849\n",
       "show_id         0.000000\n",
       "type            0.000000\n",
       "title           0.000000\n",
       "director        0.000000\n",
       "cast            0.000000\n",
       "country         0.000000\n",
       "date_added      0.000000\n",
       "release_year    0.000000\n",
       "rating          0.000000\n",
       "listed_in       0.000000\n",
       "description     0.000000\n",
       "dtype: float64"
      ]
     },
     "execution_count": 33,
     "metadata": {},
     "output_type": "execute_result"
    }
   ],
   "source": [
    "# Checking null values \n",
    "res = new_df.isnull().mean().sort_values(ascending = False)\n",
    "res"
   ]
  },
  {
   "cell_type": "markdown",
   "id": "9c1bf76b",
   "metadata": {},
   "source": [
    "We are getting null values for seasons and length since TV shows doesnot have length values and Films don't have seasons."
   ]
  },
  {
   "cell_type": "code",
   "execution_count": 34,
   "id": "14c155f2",
   "metadata": {},
   "outputs": [
    {
     "name": "stderr",
     "output_type": "stream",
     "text": [
      "G:\\Downloads\\anaconda3\\lib\\site-packages\\pandas\\core\\indexing.py:1732: SettingWithCopyWarning: \n",
      "A value is trying to be set on a copy of a slice from a DataFrame\n",
      "\n",
      "See the caveats in the documentation: https://pandas.pydata.org/pandas-docs/stable/user_guide/indexing.html#returning-a-view-versus-a-copy\n",
      "  self._setitem_single_block(indexer, value, name)\n"
     ]
    },
    {
     "name": "stdout",
     "output_type": "stream",
     "text": [
      "6131\n",
      "2676\n"
     ]
    }
   ],
   "source": [
    "# HANDLING NAN\n",
    "# replace 'seasons' with 'length' to set zero in place of NaN\n",
    "def NullHandling(data):\n",
    "    count = 0\n",
    "    for i in range(len(data)):\n",
    "        if type(data.iloc[i]) is float:\n",
    "            count+=1\n",
    "            data.iloc[i] = '0'\n",
    "    print(count)\n",
    "            #new_df['length'].iloc[i] = '0'\n",
    "        #print(new_df.iloc[i])\n",
    "NullHandling(new_df['seasons'])        \n",
    "NullHandling(new_df['length'])        "
   ]
  },
  {
   "cell_type": "code",
   "execution_count": 35,
   "id": "fa61d871",
   "metadata": {},
   "outputs": [
    {
     "data": {
      "text/plain": [
       "0"
      ]
     },
     "execution_count": 35,
     "metadata": {},
     "output_type": "execute_result"
    }
   ],
   "source": [
    "#checking count of NaN values actioned\n",
    "new_df['seasons'].isnull().sum()"
   ]
  },
  {
   "cell_type": "code",
   "execution_count": null,
   "id": "d3577239",
   "metadata": {},
   "outputs": [],
   "source": [
    "# Exporting cleaned data\n",
    "# import os  \n",
    "# os.makedirs('C:/Users/user/NOTEBOOKS/EDA & Vizualization', exist_ok=True)  \n",
    "# CleanNetflixDataset.to_csv('C:/Users/user/NOTEBOOKS/EDA & Vizualization/Cleaned_netflix_titles.csv') "
   ]
  },
  {
   "cell_type": "markdown",
   "id": "fe6743ae",
   "metadata": {},
   "source": [
    "No NULL values remain now"
   ]
  },
  {
   "cell_type": "markdown",
   "id": "0387cc49",
   "metadata": {},
   "source": [
    "### Data has been cleaned. It is ready for analysis."
   ]
  },
  {
   "cell_type": "code",
   "execution_count": 36,
   "id": "6ffd09cb",
   "metadata": {},
   "outputs": [
    {
     "data": {
      "text/html": [
       "<div>\n",
       "<style scoped>\n",
       "    .dataframe tbody tr th:only-of-type {\n",
       "        vertical-align: middle;\n",
       "    }\n",
       "\n",
       "    .dataframe tbody tr th {\n",
       "        vertical-align: top;\n",
       "    }\n",
       "\n",
       "    .dataframe thead th {\n",
       "        text-align: right;\n",
       "    }\n",
       "</style>\n",
       "<table border=\"1\" class=\"dataframe\">\n",
       "  <thead>\n",
       "    <tr style=\"text-align: right;\">\n",
       "      <th></th>\n",
       "      <th>release_year</th>\n",
       "    </tr>\n",
       "  </thead>\n",
       "  <tbody>\n",
       "    <tr>\n",
       "      <th>count</th>\n",
       "      <td>8807.000000</td>\n",
       "    </tr>\n",
       "    <tr>\n",
       "      <th>mean</th>\n",
       "      <td>2014.180198</td>\n",
       "    </tr>\n",
       "    <tr>\n",
       "      <th>std</th>\n",
       "      <td>8.819312</td>\n",
       "    </tr>\n",
       "    <tr>\n",
       "      <th>min</th>\n",
       "      <td>1925.000000</td>\n",
       "    </tr>\n",
       "    <tr>\n",
       "      <th>25%</th>\n",
       "      <td>2013.000000</td>\n",
       "    </tr>\n",
       "    <tr>\n",
       "      <th>50%</th>\n",
       "      <td>2017.000000</td>\n",
       "    </tr>\n",
       "    <tr>\n",
       "      <th>75%</th>\n",
       "      <td>2019.000000</td>\n",
       "    </tr>\n",
       "    <tr>\n",
       "      <th>max</th>\n",
       "      <td>2021.000000</td>\n",
       "    </tr>\n",
       "  </tbody>\n",
       "</table>\n",
       "</div>"
      ],
      "text/plain": [
       "       release_year\n",
       "count   8807.000000\n",
       "mean    2014.180198\n",
       "std        8.819312\n",
       "min     1925.000000\n",
       "25%     2013.000000\n",
       "50%     2017.000000\n",
       "75%     2019.000000\n",
       "max     2021.000000"
      ]
     },
     "execution_count": 36,
     "metadata": {},
     "output_type": "execute_result"
    }
   ],
   "source": [
    "new_df.describe()"
   ]
  },
  {
   "cell_type": "code",
   "execution_count": 37,
   "id": "37a257e2",
   "metadata": {},
   "outputs": [
    {
     "data": {
      "text/html": [
       "<div>\n",
       "<style scoped>\n",
       "    .dataframe tbody tr th:only-of-type {\n",
       "        vertical-align: middle;\n",
       "    }\n",
       "\n",
       "    .dataframe tbody tr th {\n",
       "        vertical-align: top;\n",
       "    }\n",
       "\n",
       "    .dataframe thead th {\n",
       "        text-align: right;\n",
       "    }\n",
       "</style>\n",
       "<table border=\"1\" class=\"dataframe\">\n",
       "  <thead>\n",
       "    <tr style=\"text-align: right;\">\n",
       "      <th></th>\n",
       "      <th>count</th>\n",
       "      <th>unique</th>\n",
       "      <th>top</th>\n",
       "      <th>freq</th>\n",
       "    </tr>\n",
       "  </thead>\n",
       "  <tbody>\n",
       "    <tr>\n",
       "      <th>show_id</th>\n",
       "      <td>8807</td>\n",
       "      <td>8807</td>\n",
       "      <td>s1</td>\n",
       "      <td>1</td>\n",
       "    </tr>\n",
       "    <tr>\n",
       "      <th>type</th>\n",
       "      <td>8807</td>\n",
       "      <td>2</td>\n",
       "      <td>Movie</td>\n",
       "      <td>6131</td>\n",
       "    </tr>\n",
       "    <tr>\n",
       "      <th>title</th>\n",
       "      <td>8807</td>\n",
       "      <td>8806</td>\n",
       "      <td>Consequences</td>\n",
       "      <td>2</td>\n",
       "    </tr>\n",
       "    <tr>\n",
       "      <th>director</th>\n",
       "      <td>8807</td>\n",
       "      <td>4529</td>\n",
       "      <td></td>\n",
       "      <td>2634</td>\n",
       "    </tr>\n",
       "    <tr>\n",
       "      <th>cast</th>\n",
       "      <td>8807</td>\n",
       "      <td>7693</td>\n",
       "      <td></td>\n",
       "      <td>825</td>\n",
       "    </tr>\n",
       "    <tr>\n",
       "      <th>country</th>\n",
       "      <td>8807</td>\n",
       "      <td>749</td>\n",
       "      <td>United States</td>\n",
       "      <td>2818</td>\n",
       "    </tr>\n",
       "    <tr>\n",
       "      <th>date_added</th>\n",
       "      <td>8807</td>\n",
       "      <td>1715</td>\n",
       "      <td>January 1, 2020</td>\n",
       "      <td>110</td>\n",
       "    </tr>\n",
       "    <tr>\n",
       "      <th>rating</th>\n",
       "      <td>8807</td>\n",
       "      <td>14</td>\n",
       "      <td>TV-MA</td>\n",
       "      <td>3207</td>\n",
       "    </tr>\n",
       "    <tr>\n",
       "      <th>listed_in</th>\n",
       "      <td>8807</td>\n",
       "      <td>514</td>\n",
       "      <td>Dramas, International Movies</td>\n",
       "      <td>362</td>\n",
       "    </tr>\n",
       "    <tr>\n",
       "      <th>length</th>\n",
       "      <td>8807</td>\n",
       "      <td>206</td>\n",
       "      <td>0</td>\n",
       "      <td>2676</td>\n",
       "    </tr>\n",
       "    <tr>\n",
       "      <th>description</th>\n",
       "      <td>8807</td>\n",
       "      <td>8775</td>\n",
       "      <td>Paranormal activity at a lush, abandoned prope...</td>\n",
       "      <td>4</td>\n",
       "    </tr>\n",
       "    <tr>\n",
       "      <th>seasons</th>\n",
       "      <td>8807</td>\n",
       "      <td>16</td>\n",
       "      <td>0</td>\n",
       "      <td>6131</td>\n",
       "    </tr>\n",
       "  </tbody>\n",
       "</table>\n",
       "</div>"
      ],
      "text/plain": [
       "            count unique                                                top  \\\n",
       "show_id      8807   8807                                                 s1   \n",
       "type         8807      2                                              Movie   \n",
       "title        8807   8806                                       Consequences   \n",
       "director     8807   4529                                                      \n",
       "cast         8807   7693                                                      \n",
       "country      8807    749                                      United States   \n",
       "date_added   8807   1715                                    January 1, 2020   \n",
       "rating       8807     14                                              TV-MA   \n",
       "listed_in    8807    514                       Dramas, International Movies   \n",
       "length       8807    206                                                  0   \n",
       "description  8807   8775  Paranormal activity at a lush, abandoned prope...   \n",
       "seasons      8807     16                                                  0   \n",
       "\n",
       "             freq  \n",
       "show_id         1  \n",
       "type         6131  \n",
       "title           2  \n",
       "director     2634  \n",
       "cast          825  \n",
       "country      2818  \n",
       "date_added    110  \n",
       "rating       3207  \n",
       "listed_in     362  \n",
       "length       2676  \n",
       "description     4  \n",
       "seasons      6131  "
      ]
     },
     "execution_count": 37,
     "metadata": {},
     "output_type": "execute_result"
    }
   ],
   "source": [
    "# Stats of whole netflix dataset\n",
    "new_df.describe(include='object').T"
   ]
  },
  {
   "cell_type": "code",
   "execution_count": 38,
   "id": "0bd3f66c",
   "metadata": {},
   "outputs": [
    {
     "data": {
      "text/html": [
       "<div>\n",
       "<style scoped>\n",
       "    .dataframe tbody tr th:only-of-type {\n",
       "        vertical-align: middle;\n",
       "    }\n",
       "\n",
       "    .dataframe tbody tr th {\n",
       "        vertical-align: top;\n",
       "    }\n",
       "\n",
       "    .dataframe thead th {\n",
       "        text-align: right;\n",
       "    }\n",
       "</style>\n",
       "<table border=\"1\" class=\"dataframe\">\n",
       "  <thead>\n",
       "    <tr style=\"text-align: right;\">\n",
       "      <th></th>\n",
       "      <th>count</th>\n",
       "      <th>unique</th>\n",
       "      <th>top</th>\n",
       "      <th>freq</th>\n",
       "    </tr>\n",
       "  </thead>\n",
       "  <tbody>\n",
       "    <tr>\n",
       "      <th>show_id</th>\n",
       "      <td>2676</td>\n",
       "      <td>2676</td>\n",
       "      <td>s2</td>\n",
       "      <td>1</td>\n",
       "    </tr>\n",
       "    <tr>\n",
       "      <th>type</th>\n",
       "      <td>2676</td>\n",
       "      <td>1</td>\n",
       "      <td>TV Show</td>\n",
       "      <td>2676</td>\n",
       "    </tr>\n",
       "    <tr>\n",
       "      <th>title</th>\n",
       "      <td>2676</td>\n",
       "      <td>2676</td>\n",
       "      <td>Blood &amp; Water</td>\n",
       "      <td>1</td>\n",
       "    </tr>\n",
       "    <tr>\n",
       "      <th>director</th>\n",
       "      <td>2676</td>\n",
       "      <td>223</td>\n",
       "      <td></td>\n",
       "      <td>2446</td>\n",
       "    </tr>\n",
       "    <tr>\n",
       "      <th>cast</th>\n",
       "      <td>2676</td>\n",
       "      <td>2284</td>\n",
       "      <td></td>\n",
       "      <td>350</td>\n",
       "    </tr>\n",
       "    <tr>\n",
       "      <th>country</th>\n",
       "      <td>2676</td>\n",
       "      <td>197</td>\n",
       "      <td>United States</td>\n",
       "      <td>760</td>\n",
       "    </tr>\n",
       "    <tr>\n",
       "      <th>date_added</th>\n",
       "      <td>2676</td>\n",
       "      <td>1013</td>\n",
       "      <td>July 6, 2021</td>\n",
       "      <td>31</td>\n",
       "    </tr>\n",
       "    <tr>\n",
       "      <th>rating</th>\n",
       "      <td>2676</td>\n",
       "      <td>10</td>\n",
       "      <td>TV-MA</td>\n",
       "      <td>1145</td>\n",
       "    </tr>\n",
       "    <tr>\n",
       "      <th>listed_in</th>\n",
       "      <td>2676</td>\n",
       "      <td>236</td>\n",
       "      <td>Kids' TV</td>\n",
       "      <td>220</td>\n",
       "    </tr>\n",
       "    <tr>\n",
       "      <th>seasons</th>\n",
       "      <td>2676</td>\n",
       "      <td>15</td>\n",
       "      <td>1</td>\n",
       "      <td>1793</td>\n",
       "    </tr>\n",
       "    <tr>\n",
       "      <th>description</th>\n",
       "      <td>2676</td>\n",
       "      <td>2672</td>\n",
       "      <td>This educational series for tiny tots features...</td>\n",
       "      <td>2</td>\n",
       "    </tr>\n",
       "  </tbody>\n",
       "</table>\n",
       "</div>"
      ],
      "text/plain": [
       "            count unique                                                top  \\\n",
       "show_id      2676   2676                                                 s2   \n",
       "type         2676      1                                            TV Show   \n",
       "title        2676   2676                                      Blood & Water   \n",
       "director     2676    223                                                      \n",
       "cast         2676   2284                                                      \n",
       "country      2676    197                                      United States   \n",
       "date_added   2676   1013                                       July 6, 2021   \n",
       "rating       2676     10                                              TV-MA   \n",
       "listed_in    2676    236                                           Kids' TV   \n",
       "seasons      2676     15                                                  1   \n",
       "description  2676   2672  This educational series for tiny tots features...   \n",
       "\n",
       "             freq  \n",
       "show_id         1  \n",
       "type         2676  \n",
       "title           1  \n",
       "director     2446  \n",
       "cast          350  \n",
       "country       760  \n",
       "date_added     31  \n",
       "rating       1145  \n",
       "listed_in     220  \n",
       "seasons      1793  \n",
       "description     2  "
      ]
     },
     "execution_count": 38,
     "metadata": {},
     "output_type": "execute_result"
    }
   ],
   "source": [
    "# Stats of netflix shows\n",
    "netflix_shows.describe(include='object').T"
   ]
  },
  {
   "cell_type": "code",
   "execution_count": 39,
   "id": "3ce3b943",
   "metadata": {},
   "outputs": [
    {
     "data": {
      "text/plain": [
       "array(['0', '2', '1', '9', '4', '5', '3', '6', '7', '10', '8', '17', '13',\n",
       "       '15', '12', '11'], dtype=object)"
      ]
     },
     "execution_count": 39,
     "metadata": {},
     "output_type": "execute_result"
    }
   ],
   "source": [
    "new_df['seasons'].unique()"
   ]
  },
  {
   "cell_type": "code",
   "execution_count": 40,
   "id": "01bf035d",
   "metadata": {},
   "outputs": [
    {
     "data": {
      "text/plain": [
       "Movie      6131\n",
       "TV Show    2676\n",
       "Name: type, dtype: int64"
      ]
     },
     "execution_count": 40,
     "metadata": {},
     "output_type": "execute_result"
    }
   ],
   "source": [
    "# Which type are mostly aired tv show or movie\n",
    "new_df[\"type\"].value_counts()"
   ]
  },
  {
   "cell_type": "code",
   "execution_count": 41,
   "id": "6a2ce702",
   "metadata": {},
   "outputs": [
    {
     "data": {
      "text/plain": [
       "0    United States\n",
       "dtype: object"
      ]
     },
     "execution_count": 41,
     "metadata": {},
     "output_type": "execute_result"
    }
   ],
   "source": [
    "new_df['country'].mode()"
   ]
  },
  {
   "cell_type": "code",
   "execution_count": 42,
   "id": "77b11b9a",
   "metadata": {},
   "outputs": [
    {
     "data": {
      "text/plain": [
       "United States     2818\n",
       "India              972\n",
       "                   831\n",
       "United Kingdom     419\n",
       "Japan              245\n",
       "South Korea        199\n",
       "Canada             181\n",
       "Spain              145\n",
       "France             124\n",
       "Mexico             110\n",
       "Name: country, dtype: int64"
      ]
     },
     "execution_count": 42,
     "metadata": {},
     "output_type": "execute_result"
    }
   ],
   "source": [
    "# Top 10 counties who produced movies and tv shows\n",
    "a=new_df[\"country\"].value_counts().head(10)\n",
    "a"
   ]
  },
  {
   "cell_type": "code",
   "execution_count": 43,
   "id": "9d6bf2dc",
   "metadata": {
    "collapsed": true
   },
   "outputs": [
    {
     "ename": "KeyError",
     "evalue": "'year_added'",
     "output_type": "error",
     "traceback": [
      "\u001b[1;31m---------------------------------------------------------------------------\u001b[0m",
      "\u001b[1;31mKeyError\u001b[0m                                  Traceback (most recent call last)",
      "\u001b[1;32mG:\\Downloads\\anaconda3\\lib\\site-packages\\pandas\\core\\indexes\\base.py\u001b[0m in \u001b[0;36mget_loc\u001b[1;34m(self, key, method, tolerance)\u001b[0m\n\u001b[0;32m   3360\u001b[0m             \u001b[1;32mtry\u001b[0m\u001b[1;33m:\u001b[0m\u001b[1;33m\u001b[0m\u001b[1;33m\u001b[0m\u001b[0m\n\u001b[1;32m-> 3361\u001b[1;33m                 \u001b[1;32mreturn\u001b[0m \u001b[0mself\u001b[0m\u001b[1;33m.\u001b[0m\u001b[0m_engine\u001b[0m\u001b[1;33m.\u001b[0m\u001b[0mget_loc\u001b[0m\u001b[1;33m(\u001b[0m\u001b[0mcasted_key\u001b[0m\u001b[1;33m)\u001b[0m\u001b[1;33m\u001b[0m\u001b[1;33m\u001b[0m\u001b[0m\n\u001b[0m\u001b[0;32m   3362\u001b[0m             \u001b[1;32mexcept\u001b[0m \u001b[0mKeyError\u001b[0m \u001b[1;32mas\u001b[0m \u001b[0merr\u001b[0m\u001b[1;33m:\u001b[0m\u001b[1;33m\u001b[0m\u001b[1;33m\u001b[0m\u001b[0m\n",
      "\u001b[1;32mG:\\Downloads\\anaconda3\\lib\\site-packages\\pandas\\_libs\\index.pyx\u001b[0m in \u001b[0;36mpandas._libs.index.IndexEngine.get_loc\u001b[1;34m()\u001b[0m\n",
      "\u001b[1;32mG:\\Downloads\\anaconda3\\lib\\site-packages\\pandas\\_libs\\index.pyx\u001b[0m in \u001b[0;36mpandas._libs.index.IndexEngine.get_loc\u001b[1;34m()\u001b[0m\n",
      "\u001b[1;32mpandas\\_libs\\hashtable_class_helper.pxi\u001b[0m in \u001b[0;36mpandas._libs.hashtable.PyObjectHashTable.get_item\u001b[1;34m()\u001b[0m\n",
      "\u001b[1;32mpandas\\_libs\\hashtable_class_helper.pxi\u001b[0m in \u001b[0;36mpandas._libs.hashtable.PyObjectHashTable.get_item\u001b[1;34m()\u001b[0m\n",
      "\u001b[1;31mKeyError\u001b[0m: 'year_added'",
      "\nThe above exception was the direct cause of the following exception:\n",
      "\u001b[1;31mKeyError\u001b[0m                                  Traceback (most recent call last)",
      "\u001b[1;32m~\\AppData\\Local\\Temp/ipykernel_3916/2288976770.py\u001b[0m in \u001b[0;36m<module>\u001b[1;34m\u001b[0m\n\u001b[1;32m----> 1\u001b[1;33m \u001b[0mnew_df\u001b[0m\u001b[1;33m[\u001b[0m\u001b[1;34m'year_added'\u001b[0m\u001b[1;33m]\u001b[0m\u001b[1;33m.\u001b[0m\u001b[0mvalue_counts\u001b[0m\u001b[1;33m(\u001b[0m\u001b[1;33m)\u001b[0m\u001b[1;33m\u001b[0m\u001b[1;33m\u001b[0m\u001b[0m\n\u001b[0m",
      "\u001b[1;32mG:\\Downloads\\anaconda3\\lib\\site-packages\\pandas\\core\\frame.py\u001b[0m in \u001b[0;36m__getitem__\u001b[1;34m(self, key)\u001b[0m\n\u001b[0;32m   3456\u001b[0m             \u001b[1;32mif\u001b[0m \u001b[0mself\u001b[0m\u001b[1;33m.\u001b[0m\u001b[0mcolumns\u001b[0m\u001b[1;33m.\u001b[0m\u001b[0mnlevels\u001b[0m \u001b[1;33m>\u001b[0m \u001b[1;36m1\u001b[0m\u001b[1;33m:\u001b[0m\u001b[1;33m\u001b[0m\u001b[1;33m\u001b[0m\u001b[0m\n\u001b[0;32m   3457\u001b[0m                 \u001b[1;32mreturn\u001b[0m \u001b[0mself\u001b[0m\u001b[1;33m.\u001b[0m\u001b[0m_getitem_multilevel\u001b[0m\u001b[1;33m(\u001b[0m\u001b[0mkey\u001b[0m\u001b[1;33m)\u001b[0m\u001b[1;33m\u001b[0m\u001b[1;33m\u001b[0m\u001b[0m\n\u001b[1;32m-> 3458\u001b[1;33m             \u001b[0mindexer\u001b[0m \u001b[1;33m=\u001b[0m \u001b[0mself\u001b[0m\u001b[1;33m.\u001b[0m\u001b[0mcolumns\u001b[0m\u001b[1;33m.\u001b[0m\u001b[0mget_loc\u001b[0m\u001b[1;33m(\u001b[0m\u001b[0mkey\u001b[0m\u001b[1;33m)\u001b[0m\u001b[1;33m\u001b[0m\u001b[1;33m\u001b[0m\u001b[0m\n\u001b[0m\u001b[0;32m   3459\u001b[0m             \u001b[1;32mif\u001b[0m \u001b[0mis_integer\u001b[0m\u001b[1;33m(\u001b[0m\u001b[0mindexer\u001b[0m\u001b[1;33m)\u001b[0m\u001b[1;33m:\u001b[0m\u001b[1;33m\u001b[0m\u001b[1;33m\u001b[0m\u001b[0m\n\u001b[0;32m   3460\u001b[0m                 \u001b[0mindexer\u001b[0m \u001b[1;33m=\u001b[0m \u001b[1;33m[\u001b[0m\u001b[0mindexer\u001b[0m\u001b[1;33m]\u001b[0m\u001b[1;33m\u001b[0m\u001b[1;33m\u001b[0m\u001b[0m\n",
      "\u001b[1;32mG:\\Downloads\\anaconda3\\lib\\site-packages\\pandas\\core\\indexes\\base.py\u001b[0m in \u001b[0;36mget_loc\u001b[1;34m(self, key, method, tolerance)\u001b[0m\n\u001b[0;32m   3361\u001b[0m                 \u001b[1;32mreturn\u001b[0m \u001b[0mself\u001b[0m\u001b[1;33m.\u001b[0m\u001b[0m_engine\u001b[0m\u001b[1;33m.\u001b[0m\u001b[0mget_loc\u001b[0m\u001b[1;33m(\u001b[0m\u001b[0mcasted_key\u001b[0m\u001b[1;33m)\u001b[0m\u001b[1;33m\u001b[0m\u001b[1;33m\u001b[0m\u001b[0m\n\u001b[0;32m   3362\u001b[0m             \u001b[1;32mexcept\u001b[0m \u001b[0mKeyError\u001b[0m \u001b[1;32mas\u001b[0m \u001b[0merr\u001b[0m\u001b[1;33m:\u001b[0m\u001b[1;33m\u001b[0m\u001b[1;33m\u001b[0m\u001b[0m\n\u001b[1;32m-> 3363\u001b[1;33m                 \u001b[1;32mraise\u001b[0m \u001b[0mKeyError\u001b[0m\u001b[1;33m(\u001b[0m\u001b[0mkey\u001b[0m\u001b[1;33m)\u001b[0m \u001b[1;32mfrom\u001b[0m \u001b[0merr\u001b[0m\u001b[1;33m\u001b[0m\u001b[1;33m\u001b[0m\u001b[0m\n\u001b[0m\u001b[0;32m   3364\u001b[0m \u001b[1;33m\u001b[0m\u001b[0m\n\u001b[0;32m   3365\u001b[0m         \u001b[1;32mif\u001b[0m \u001b[0mis_scalar\u001b[0m\u001b[1;33m(\u001b[0m\u001b[0mkey\u001b[0m\u001b[1;33m)\u001b[0m \u001b[1;32mand\u001b[0m \u001b[0misna\u001b[0m\u001b[1;33m(\u001b[0m\u001b[0mkey\u001b[0m\u001b[1;33m)\u001b[0m \u001b[1;32mand\u001b[0m \u001b[1;32mnot\u001b[0m \u001b[0mself\u001b[0m\u001b[1;33m.\u001b[0m\u001b[0mhasnans\u001b[0m\u001b[1;33m:\u001b[0m\u001b[1;33m\u001b[0m\u001b[1;33m\u001b[0m\u001b[0m\n",
      "\u001b[1;31mKeyError\u001b[0m: 'year_added'"
     ]
    }
   ],
   "source": [
    "new_df['year_added'].value_counts()"
   ]
  },
  {
   "cell_type": "code",
   "execution_count": 44,
   "id": "4be3cddc",
   "metadata": {},
   "outputs": [
    {
     "data": {
      "text/plain": [
       "Dramas, International Movies                        362\n",
       "Documentaries                                       359\n",
       "Stand-Up Comedy                                     334\n",
       "Comedies, Dramas, International Movies              274\n",
       "Dramas, Independent Movies, International Movies    252\n",
       "                                                   ... \n",
       "Sci-Fi & Fantasy                                      1\n",
       "Sports Movies                                         1\n",
       "Children & Family Movies, Comedies, Cult Movies       1\n",
       "Cult Movies, Dramas, Music & Musicals                 1\n",
       "Cult Movies, Dramas, Thrillers                        1\n",
       "Name: listed_in, Length: 278, dtype: int64"
      ]
     },
     "execution_count": 44,
     "metadata": {},
     "output_type": "execute_result"
    }
   ],
   "source": [
    "netflix_films['listed_in'].value_counts()"
   ]
  },
  {
   "cell_type": "code",
   "execution_count": null,
   "id": "db89ef1c",
   "metadata": {},
   "outputs": [],
   "source": []
  }
 ],
 "metadata": {
  "kernelspec": {
   "display_name": "Python 3 (ipykernel)",
   "language": "python",
   "name": "python3"
  },
  "language_info": {
   "codemirror_mode": {
    "name": "ipython",
    "version": 3
   },
   "file_extension": ".py",
   "mimetype": "text/x-python",
   "name": "python",
   "nbconvert_exporter": "python",
   "pygments_lexer": "ipython3",
   "version": "3.9.7"
  }
 },
 "nbformat": 4,
 "nbformat_minor": 5
}
